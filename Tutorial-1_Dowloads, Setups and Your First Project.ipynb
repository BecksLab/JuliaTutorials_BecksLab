{
  "cells": [
    {
      "cell_type": "raw",
      "metadata": {},
      "source": [
        "---\n",
        "title: 'Tutorial 1: Downloads, Setups and Your First Project'\n",
        "date: now\n",
        "author: 'Danet and Becks, based on originals by Delmas and Griffiths'\n",
        "format:\n",
        "  html:\n",
        "    embed-resources: true\n",
        "title-block-banner: true\n",
        "---"
      ],
      "id": "7e8815a1"
    },
    {
      "cell_type": "code",
      "metadata": {},
      "source": [
        "#| echo: false\n",
        "using DataFrames, StatsPlots, Plots, Random"
      ],
      "id": "03cc4770",
      "execution_count": null,
      "outputs": []
    },
    {
      "cell_type": "markdown",
      "metadata": {},
      "source": [
        "## Downloading and Installing Julia and VSCode\n",
        "\n",
        "**Julia**\n",
        "\n",
        "Navigate to [this page](https://julialang.org/downloads/) and follow the platform-specific instructions to dowload and install Julia (we recommend installing the current stable release).\n",
        "\n",
        "During the installation process, you may be prompted to add Julia to the PATH, this box should be ticked.\n",
        "\n",
        "**VSCode**\n",
        "\n",
        "Navigate to [this page](https://visualstudio.microsoft.com/) to dowload and install your platform specific Visual Studio Code (not Visual Studio or Visual Studio for Mac).\n",
        "\n",
        "## Setting Up VSCode to use Julia\n",
        "\n",
        "VS Code is a free source-code editor, allowing you to code in multiple coding languages all from a platform that is completely customisable to the user. This flexibility is great but it does mean that you need to spend time telling VS Code what it is you want to do and how. This is where extensions come in; extensions are higher level packages that permit the use of a given coding language like Julia, edit your themes and icons, and provide helpful applications like spell checker or Bracket Pair Colorizer.\n",
        "\n",
        "To install Julia in VS Code do the following (you only need to do this once):\n",
        "\n",
        "1. open VS Code (you'll see the welcome page)\n",
        "2. navigate to the 'Marketplace' (5th symbol down in the activity bar - vertical panel on the lefthand side of the screen)\n",
        "\n",
        "![The Marketplace Button](Figs/VSCode_FirstView.png)\n",
        "\n",
        "3. search for Julia in the 'Search Extensions in Marketplace' search bar\n",
        "4. install `Julia`, this extension provides support for the Julia programming language and install `Julia Formatter`, this extension will help you write clean code that is easier to read\n",
        "\n",
        "![Selecting the Julia Language Support and Formatter](Figs/JuliaLangAndFormatter.png)\n",
        "\n",
        "## Making your first Julia project\n",
        "\n",
        "As with working in R and RStudio, we advocate working in a contained project environment when using Julia. Each unique project may require a different setup (e.g. packages, package versions, working directories, data locations, etc.).\n",
        "\n",
        "To set up a project in VS Code:\n",
        "\n",
        "1. Creating a folder at a location of your choosing (e.g. within your Documents folder). This can be on GoogleDrive, Dropbox or OneDrive.  This is OK.\n",
        "2. Name the folder with relevant works.  Here we will use `Julia - VS code - how to`.\n",
        "\n",
        "3. Navigate to VSCode and open your new project by clicking on the 'Explorer' symbol (top left symbol on the activity bar) and click Open Folder and navigate your finder or explorer to the `Julia - VS code - how to` folder.\n",
        "\n",
        "![Opening Your Project](Figs/OpenProject.png)\n",
        "\n",
        "3.1 this folder becomes the working directory (same as when using an `.RProject` in R)\n",
        "\n",
        "4. Create a new file (a script) in your directory: do this by using cmd-N (mac) or ctrl-N (windows) or File -> New File or by left clicking -> New File within the directory pane\n",
        "\n",
        "5. Name your script as your see fit but please rememeber to include the .jl file extension (e.g. JuliaTuto.jl). the .jl file extension tells VS Code you want to use the Julia programming language. To save your script at any time use cmd-S (MAC) OR ctrl-S (windows) or File > Save.\n",
        "\n",
        "5.1 Note, you can also open a project in VS Code by right-clicking on your folder (in Finder, Windows file explorer or Linux nautilus) and selecting Open with -> Other -> VS Code.\n",
        "\n",
        "### Activating the REPL and running some code.\n",
        "\n",
        "This sequence of figures aligns with the instructions below.\n",
        "\n",
        "![Initiating and using the REPL](Figs/UsingREPL.png)\n",
        "\n",
        "Now that you have an active project and a new script file you can open the Julia REPL.  REPL stands for _read, execute, print and loop_. The REPL is like the console in R and is where the magic happens. In Eva's words, it's VS Code's way of using Julia for a brain.\n",
        "\n",
        "To do this you type F1 or cmd/cntrl - shift-p or View -> Command Palette and choose Julia REPL. The command palette will appear as a drop down menu with a search function at the top of the page.\n",
        "\n",
        "Now that you have an interface with Julia as a brain, you can actually do something!  Try this: type `print(\"Hello world\")` in the REPL and press Enter/Return. If you've done all of the above correctly, Hello world should print in the REPL.\n",
        "\n",
        "Now, you can also make a 'script'.  Type ctrl-n or cmd-n and a document will open at the top.  There will be a prompt/link to select your language.  Click the link and, yes, search for and choose Julia.\n",
        "\n",
        "Next, type `print(\"Hello world\")` in the script.  Just like RStudio, you can send the information in the script to the REPL.  There are two ways to do this.  First, and probably what you'll want, is shift-enter(return).  This will send the line of code you are on, and move to the next line.  ctrl-enter(return) submits the line but does not move the cursor.  Try it!\n",
        "\n",
        "## Activating your project, the project.toml and manifest.toml\n",
        "\n",
        "We mentioned above that it is good practice to work within an environment specific to each project. The Julia package manager (Pkg) allows you to do that easily: Unlike traditional package managers, which install and manage a single global set of packages, Pkg is designed around environments: independent sets of packages that can be local to an individual project or shared and selected by name (text taken directly from the documentation).\n",
        "\n",
        "The project environment is stored via two files:\n",
        "\n",
        "`Project.toml` - stores a list of packages that have been installed and their versions (very useful when sharing code as any user can see exactly what version of a package has been used)\n",
        "\n",
        "`Manifest.toml` - does the same thing but for all the package dependencies (other packages that are essential, or form functional parts, of the package you want to use)\n",
        "\n",
        "These files are created and modified automatically as you invoke the use of various packages.\n",
        "\n",
        "### Getting started: activating your project.\n",
        "\n",
        " Activating your project is something that only needs doing once per computer.  It allows you to add packages and dependencies to the project.\n",
        "\n",
        " If you move the project to a new computer, or share the project, activation will be needed again.\n",
        "\n",
        " There are two ways to activate your project.\n",
        "\n",
        " 1. type `Pkg.activate(\".\")` in the REPL.\n",
        " 2. type `]` in the REPL and then `activate .`\n",
        "\n",
        " The `]` is a shorthand for using the `Pkg` package and opens the package manager.  To get out of this, you press the `backspace/delete` button  on your keyboard.\n",
        "\n",
        " There are two ways to double check that you are actually working within your project:\n",
        "\n",
        "- check/click the 'Julia env:...' on the bottom of your screen (blue bar), it should match your project name\n",
        "\n",
        "- enter the package manager by typing `]` in the Julia REPL, you should see (your-project-name) pkg> instead of julia>. Again, exit the package manager using `backspace/delete` button.\n",
        "\n",
        "\n",
        "### Working with the package manager and growing the project and manifest files\n",
        "\n",
        "Once your project is activated, there are two ways to use the package manager (Pkg):\n",
        "\n",
        "1. directly from the REPL:\n",
        "\n",
        "- navigate to the REPL\n",
        "- type `]`\n",
        "- you will see that instead of seeing julia> you now see (your-project-name) pkg>, indicating that all the packages that you now install (or update) will be installed (or updated) within this specific project\n",
        "- to add a package, use the function `add`: `] add Plots`\n",
        "\n",
        "2. using `Pkg` (this is useful when you want to install packages or manage them from within your script):\n",
        "\n",
        "- first type `import Pkg` and execute this line using shift-Enter\n",
        "- on subsequent lines, add, remove and update packages from your script using `Pkg` functions such as `Pkg.add()`, `Pkg.remove()` or `Pkg.update()`.\n",
        "- To add a packages, the name of the package need to be written with quotes (`Pkg.add(\"Plots\")`).\n",
        "\n",
        "#### An example using the Plots package\n",
        "\n",
        "Now that we are all set up, we are going to install a package, check the project's status and remove a package. As this might be your first time installing a package (e.g., Plots), don't be concerned if it takes a couple of minutes to run.\n",
        "\n",
        "- type `] add Plots` in the REPL (or `Pkg.add(\"Plots\")`) in your script and execute using Ctrl-Enter.\n",
        "    - you just installed the Plots package and a whole bunch of dependencies that Plots needs to work.  This is equivalent to Base plots in R. Note that if you used `Pkg.add(\"Plots\")` this is the equivalent to using the `install.packages()` function in R.\n",
        "\n",
        "![Package Installing](Figs/Pkg.adding.png)\n",
        "\n",
        "- type `] st` in the REPL.  This will check the status of your project and print the content of your Project.toml file, which is the list of main packages, in this case, just Plots.\n",
        "\n",
        "you should see something like:\n",
        "\n",
        "![Package Status Check](Figs/StatusCheck.png)\n",
        "\n",
        "## Gearing up to Do More Stuff (what packages do I need).\n",
        "\n",
        "There are a core set of packages we use for all of our work.  These 10 packages are almost always installed when we make a project.\n",
        "\n",
        "Go ahead and use either the `]` or `Pkg.add(\"package.name\")` method to add all of these to your project.\n",
        "\n",
        "#### For working with data\n",
        "\n",
        "CSV\n",
        "DataFrames\n",
        "DelimitedFiles\n",
        "\n",
        "#### For plotting\n",
        "\n",
        "Plots\n",
        "\n",
        "#### For statistical things\n",
        "\n",
        "Statistics\n",
        "Random\n",
        "Distributions\n",
        "StatsBase\n",
        "StatsPlots\n",
        "\n",
        "#### For Modelling\n",
        "\n",
        "DifferentialEquations\n",
        "\n",
        "## Your first script setup.\n",
        "\n",
        "At this stage, you should have a good understanding about how to create a project folder, activate a project, start the REPL, open a script and add packages to the project.\n",
        "\n",
        "Now you are ready to 'setup' your first script.\n",
        "\n",
        "1. create a new script file (ctrl-n or cmd-n).\n",
        "2. choose Julia as the language\n",
        "3. Type some informative information at the top of the script\n",
        "    a. just like in R and other programming languages, the `#` is a commenter.\n",
        "4. The first section of your script is where you declare the packages you'll be using.\n",
        "    a. the function to do this is `using`.\n",
        "    b. make Plots, Random and DataFrames available.\n",
        "\n",
        "Now you are ready to do something really simple.  Let's make some variables, data frames and a few simple plots.\n",
        "\n",
        "First, lets get the setup sorted and packages available\n"
      ],
      "id": "5821280f"
    },
    {
      "cell_type": "code",
      "metadata": {},
      "source": [
        "# This is my first example script\n",
        "# 25 Jan 2023\n",
        "\n",
        "# packages I need\n",
        "using Random, DataFrames, Plots, StatsPlots"
      ],
      "id": "f4af83e6",
      "execution_count": null,
      "outputs": []
    },
    {
      "cell_type": "markdown",
      "metadata": {},
      "source": [
        "Second, let's make some variables and see how Julia print them to the screen\n"
      ],
      "id": "698323bb"
    },
    {
      "cell_type": "code",
      "metadata": {},
      "source": [
        "# make two variables using the rand function\n",
        "# because we are using random numbers, we'll set the seed here for reproducibility\n",
        "\n",
        "Random.seed!(12345)\n",
        "\n",
        "x = rand(10)\n",
        "y = rand(10)\n",
        "\n",
        "x"
      ],
      "id": "9c22d054",
      "execution_count": null,
      "outputs": []
    },
    {
      "cell_type": "markdown",
      "metadata": {},
      "source": [
        "Cool.  Now, lets create two data frames, one made of the x and y variables, and another with three variables made directly in a call to `DataFrame`.\n"
      ],
      "id": "15d6f61d"
    },
    {
      "cell_type": "code",
      "metadata": {},
      "source": [
        "# combine into a data frame using the DataFrame function\n",
        "df = DataFrame(x = x, y = y)\n",
        "df"
      ],
      "id": "13cb58ac",
      "execution_count": null,
      "outputs": []
    },
    {
      "cell_type": "markdown",
      "metadata": {},
      "source": [
        "...and the second\n"
      ],
      "id": "d350565f"
    },
    {
      "cell_type": "code",
      "metadata": {},
      "source": [
        "# make a second data frame with three variables\n",
        "# using DataFrame directly to create variables\n",
        "df2 = DataFrame(a=1:10, b=10*rand(10), c=10*rand(10))\n",
        "df2"
      ],
      "id": "dd720261",
      "execution_count": null,
      "outputs": []
    },
    {
      "cell_type": "markdown",
      "metadata": {},
      "source": [
        "Great.  Now, lets see how to plot the 'solo' variables.  Note how we specify the seriestype.  Try getting rid of this....\n"
      ],
      "id": "a712e7f1"
    },
    {
      "cell_type": "code",
      "metadata": {},
      "source": [
        "# plot the data using x and y, as a scatterplot\n",
        "plot(x, y, seriestype=:scatter)"
      ],
      "id": "e916cdf1",
      "execution_count": null,
      "outputs": []
    },
    {
      "cell_type": "markdown",
      "metadata": {},
      "source": [
        "Superb. So, `StatsPlots` provides a special macro to use a dataframe with plots.  It's a three step process:\n",
        "\n",
        "1. declare the `@df` macro\n",
        "2. define the data frame\n",
        "3. declare the columns, using the `:`\n"
      ],
      "id": "7a9a10e5"
    },
    {
      "cell_type": "code",
      "metadata": {},
      "source": [
        "# plot the data using the data frame macro\n",
        "# declare the df macro, declare the data frame, use : to signify columns\n",
        "@df df plot(:x, :y)"
      ],
      "id": "806d35d5",
      "execution_count": null,
      "outputs": []
    },
    {
      "cell_type": "markdown",
      "metadata": {},
      "source": [
        "And here, we use the df2, and plot variable b and c vs. a.\n"
      ],
      "id": "d912e3aa"
    },
    {
      "cell_type": "code",
      "metadata": {},
      "source": [
        "# the same, and plotting two y variables\n",
        "@df df2 plot(:a, [:b, :c])"
      ],
      "id": "915ceaab",
      "execution_count": null,
      "outputs": []
    },
    {
      "cell_type": "markdown",
      "metadata": {},
      "source": [
        "#### A quick briefing about data frames in Julia versus R and dplyr is here\n",
        "\n",
        "[DataFrames Comparison R dplyr)](https://dataframes.juliadata.org/stable/man/comparisons/#Comparison-with-the-R-package-dplyr)"
      ],
      "id": "18db07c4"
    }
  ],
  "metadata": {
    "kernelspec": {
      "name": "julia-1.8",
      "language": "julia",
      "display_name": "Julia 1.8.5"
    }
  },
  "nbformat": 4,
  "nbformat_minor": 5
}