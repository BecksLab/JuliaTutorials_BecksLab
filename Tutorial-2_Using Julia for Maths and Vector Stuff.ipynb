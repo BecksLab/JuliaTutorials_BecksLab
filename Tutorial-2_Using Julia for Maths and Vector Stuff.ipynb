{
  "cells": [
    {
      "cell_type": "raw",
      "metadata": {},
      "source": [
        "---\n",
        "title: \"Tutorial 2: Using Julia for Maths and Vector Stuff\"\n",
        "date: now\n",
        "author: \"Danet and Becks, based on originals by Delmas and Griffiths\"\n",
        "format:\n",
        "    html:\n",
        "        embed-resources: true\n",
        "title-block-banner: true\n",
        "---"
      ],
      "id": "dd5737d8"
    },
    {
      "cell_type": "code",
      "metadata": {},
      "source": [
        "#| echo: false\n",
        "using DataFrames, Plots, Random, StatsPlots"
      ],
      "id": "3b3df5da",
      "execution_count": null,
      "outputs": []
    },
    {
      "cell_type": "markdown",
      "metadata": {},
      "source": [
        "This second document follows on from Tutorial 1: \"Getting started\" and assumes that you're still working in your active project.\n",
        "\n",
        "This document covers the following:\n",
        "\n",
        "- Basic maths\n",
        "- Arrays and Matrices\n",
        "- Dictionaries\n",
        "- DataFrames and CSVs\n",
        "- Functions\n",
        "- Loops\n",
        "- Plots\n",
        "- Scoping\n",
        "\n",
        "There is also a section at the end with some \"Quick tips\".\n",
        "\n",
        "## Basic Maths {#sec-basic-maths}\n",
        "\n",
        "As you probably can guess, the REPL is an interface onto a large calculator.  Julia does all the things R does... and you can find the basic maths operations defined [The Julia Manual](https://docs.julialang.org/en/v1/manual/mathematical-operations/index.html)\n"
      ],
      "id": "8dbdd3eb"
    },
    {
      "cell_type": "code",
      "metadata": {},
      "source": [
        "# sums\n",
        "1+1"
      ],
      "id": "0a14c07f",
      "execution_count": null,
      "outputs": []
    },
    {
      "cell_type": "code",
      "metadata": {},
      "source": [
        "# power\n",
        "10^3"
      ],
      "id": "8bcc69af",
      "execution_count": null,
      "outputs": []
    },
    {
      "cell_type": "code",
      "metadata": {},
      "source": [
        "# sequences in a vector\n",
        "# From 0, by 1, to 10...\n",
        "\n",
        "x = collect(0:1:10)\n",
        "\n",
        "# see it\n",
        "x"
      ],
      "id": "246dcc43",
      "execution_count": null,
      "outputs": []
    },
    {
      "cell_type": "code",
      "metadata": {},
      "source": [
        "# multply scaler x vector.\n",
        "x*10"
      ],
      "id": "f044e579",
      "execution_count": null,
      "outputs": []
    },
    {
      "cell_type": "markdown",
      "metadata": {},
      "source": [
        "## Getting Help {#sec-getting-help}\n",
        "\n",
        "Before we move on, lets talk about the help files and how to access them. As in R, the help files associated with a given package, function or command can be accessed using `?` followed by the function name (e.g. type `? pi` in the REPL).\n",
        "\n",
        "Similar to when you entered Julia's package manager (using `]`) you'll notice that the `?` command causes a change in the REPL with `help?> `replacing `julia>` as the prompt. This informs you that you've entered the help mode. As an exercise, use the help mode to find the difference between `print` and `println`.\n",
        "\n",
        "## Preamble to Objects like scalars, vectors and arrays\n",
        "\n",
        "Before we start creating arrays and matrices, we'd like to demonstrate how you allocate numbers and strings to objects in Julia and check an object's type. We'd also like to highlight some simple mathematical operations.\n",
        "\n",
        "### Allocating data to objects\n",
        "\n",
        "Allocating in Julia is useful as it means that variables can be stored and used elsewhere. You allocate numbers to objects using the following:\n",
        "\n",
        "First note that we use the `=` in `Julia`, not the `<-` as in R.\n"
      ],
      "id": "e5994f1b"
    },
    {
      "cell_type": "code",
      "metadata": {},
      "source": [
        "# allocate an Integer number to a variable\n",
        "n = 5"
      ],
      "id": "96c24e69",
      "execution_count": null,
      "outputs": []
    },
    {
      "cell_type": "markdown",
      "metadata": {},
      "source": [
        "Julia, like other languages, has some built in values, like `pi`.  We can allocate these to variable names we will use.  Notice that Julia converts pi into the unicode symbol!\n"
      ],
      "id": "4662d7ab"
    },
    {
      "cell_type": "code",
      "metadata": {},
      "source": [
        "# allocate a pre-defined number of importance to a variable\n",
        "# note that pi is converted to π\n",
        "# note2 - you can use \\pi in a julia script to get the unicode π ...\n",
        "# this works for numerous greek letters etc.  Like \\lambda for λ\n",
        "pi_sum = pi\n",
        "pi_sum"
      ],
      "id": "2671caba",
      "execution_count": null,
      "outputs": []
    },
    {
      "cell_type": "markdown",
      "metadata": {},
      "source": [
        "We can use these unicode symbols (and emojis!), like λ, as objects\n"
      ],
      "id": "2dbfca22"
    },
    {
      "cell_type": "code",
      "metadata": {},
      "source": [
        "λ = 4\n",
        "λ"
      ],
      "id": "983efdf4",
      "execution_count": null,
      "outputs": []
    },
    {
      "cell_type": "markdown",
      "metadata": {},
      "source": [
        "You can also assign multiple values to separate variables in a concise manner.  Julia can manage something like this:\n"
      ],
      "id": "5f42aa50"
    },
    {
      "cell_type": "code",
      "metadata": {},
      "source": [
        "αi, βi, γi = 1.3, 2.1, exp(39)\n",
        "\n",
        "# confirm...\n",
        "αi, βi, γi"
      ],
      "id": "2e000792",
      "execution_count": null,
      "outputs": []
    },
    {
      "cell_type": "markdown",
      "metadata": {},
      "source": [
        "#### Allocating strings\n",
        "\n",
        "Of course you can also allocate strings of text to objects.  You must use the `\"\"` and not `''` to define strings.\n"
      ],
      "id": "3fc08176"
    },
    {
      "cell_type": "code",
      "metadata": {},
      "source": [
        "sob = \"School of Biosciences\""
      ],
      "id": "51e220a3",
      "execution_count": null,
      "outputs": []
    },
    {
      "cell_type": "markdown",
      "metadata": {},
      "source": [
        "You can combine strings and numbers to print like this. Note how you use $object.name within the text string you are writing... and this works for objects that are text or numeric.\n"
      ],
      "id": "c209c1a6"
    },
    {
      "cell_type": "code",
      "metadata": {},
      "source": [
        "println(\"The favourite number in $sob is $n\")"
      ],
      "id": "eb1a03bd",
      "execution_count": null,
      "outputs": []
    },
    {
      "cell_type": "markdown",
      "metadata": {},
      "source": [
        "### Identifying the Type of object you've made\n",
        "\n",
        "Julia is very specific about types of objects.  Most programming languages are.  One way to learn about them is to look at what is made when you make things in different ways.\n"
      ],
      "id": "3eb01710"
    },
    {
      "cell_type": "code",
      "metadata": {},
      "source": [
        "typeof(n), typeof(sob), typeof(pi)"
      ],
      "id": "44d23a15",
      "execution_count": null,
      "outputs": []
    },
    {
      "cell_type": "markdown",
      "metadata": {},
      "source": [
        "Julia is like R and Python in that it can infer the type of object (Integer, Float, etc) on the left hand side of the equals sign - you don't have to justify it like you do in C. However, you can declare the type if needed e.g.\n"
      ],
      "id": "e3230117"
    },
    {
      "cell_type": "code",
      "metadata": {},
      "source": [
        "pi_custom = Float64(3.141592)"
      ],
      "id": "8d8b1766",
      "execution_count": null,
      "outputs": []
    },
    {
      "cell_type": "markdown",
      "metadata": {},
      "source": [
        "For those of you that are interested, a floating-point object (a Float) is a number that has a decimal place. An Int object is an integer, a number without a decimal place, whereas an Irrational object is a specific type of Float used only for representing some irrational numbers of special significance (e.g. π and γ). The 64 purely refers to 64-bit which is the type of processor your computer uses, most modern computers are 64-bit.\n",
        "\n",
        "Occasionally it will be valuable to convert an object from one type to another.  For example, `n` is currently an Integer (Int64), and we might want it to be Float (Float64).  To be clear, this is a distinction between `5` and `5.0`!\n"
      ],
      "id": "32ad6332"
    },
    {
      "cell_type": "code",
      "metadata": {},
      "source": [
        "typeof(n)"
      ],
      "id": "1ec6aca5",
      "execution_count": null,
      "outputs": []
    },
    {
      "cell_type": "code",
      "metadata": {},
      "source": [
        "n2 = convert(Float64, n)\n",
        "typeof(n2)"
      ],
      "id": "a1bf856f",
      "execution_count": null,
      "outputs": []
    },
    {
      "cell_type": "markdown",
      "metadata": {},
      "source": [
        "## Understanding Arrays, Vectors and Sequences.\n",
        "\n",
        "As you saw above, we created a sequence of numbers using `collect(0:1:10)`. Let's look at what type of object this is:\n"
      ],
      "id": "32090be6"
    },
    {
      "cell_type": "code",
      "metadata": {},
      "source": [
        "typeof(x)"
      ],
      "id": "1c727343",
      "execution_count": null,
      "outputs": []
    },
    {
      "cell_type": "markdown",
      "metadata": {},
      "source": [
        "This is a vector.  Let's step back to see the difference between arrays and vectors.  Arrays, for the R users, are best thought of as `lists` - they are storage boxes for any type of variables and can contain collections of various types.  The general way to create an array, in this case and empty one, is the `[ ]`.\n"
      ],
      "id": "fe30a3b5"
    },
    {
      "cell_type": "code",
      "metadata": {},
      "source": [
        "empty_array = []"
      ],
      "id": "d46b9538",
      "execution_count": null,
      "outputs": []
    },
    {
      "cell_type": "markdown",
      "metadata": {},
      "source": [
        " We will first create an array with the same values as x and then see how collect() is the function that converts this to a vector, and actually lets us see the numbers too!\n",
        "\n",
        "First, `range` can be used to make an array. This is very similar to `seq()` in `R` and has the two variations - `by` and `length` that the `R` function has.  The difference is that `by` is replaced by the argument `step`. Note how a very concise summary of this array is presented using information in square brackets `[ ]`:\n"
      ],
      "id": "b8ef58c5"
    },
    {
      "cell_type": "code",
      "metadata": {},
      "source": [
        "x_array1 = range(start = 1, step = 1, stop = 10)\n",
        "x_array2 = range(start = 1, stop = 10, length = 5)\n",
        "\n",
        "x_array1, x_array2"
      ],
      "id": "c34c26ab",
      "execution_count": null,
      "outputs": []
    },
    {
      "cell_type": "markdown",
      "metadata": {},
      "source": [
        "You can also now see that creating arrays is possible with `[ ]` and the use of the `:` :\n"
      ],
      "id": "1c126c69"
    },
    {
      "cell_type": "code",
      "metadata": {},
      "source": [
        "x_array3 = [1:1:10]"
      ],
      "id": "9b5202dc",
      "execution_count": null,
      "outputs": []
    },
    {
      "cell_type": "markdown",
      "metadata": {},
      "source": [
        "Quite often, you want to either see the values, or specifically be using a vector. To do this, you can use the function `collect()`:\n"
      ],
      "id": "aa7065c0"
    },
    {
      "cell_type": "code",
      "metadata": {},
      "source": [
        "collect(x_array1)"
      ],
      "id": "7d2f66b7",
      "execution_count": null,
      "outputs": []
    },
    {
      "cell_type": "markdown",
      "metadata": {},
      "source": [
        "## Indices of Arrays.\n",
        "\n",
        "You should recall from **R** that values in arrays and vectors and dataframes have _addresses_ that we call indices. Julia works with indexing very similarly.\n",
        "\n",
        "Let's make a simple array of 5 numbers and another simple array of five words. Note that the `[]` array function is a but like the `c()` function in **R**.\n"
      ],
      "id": "4eedb390"
    },
    {
      "cell_type": "code",
      "metadata": {},
      "source": [
        "ar = [6,7,8,9,10]\n",
        "br = [\"Pint\", \"of\", \"Moonshine\", \"please\"]"
      ],
      "id": "4fbb80d4",
      "execution_count": null,
      "outputs": []
    },
    {
      "cell_type": "markdown",
      "metadata": {},
      "source": [
        "You can get any address in these using... square brackets!\n"
      ],
      "id": "73892399"
    },
    {
      "cell_type": "code",
      "metadata": {},
      "source": [
        "ar[2] # gets the number 7!"
      ],
      "id": "b386f0fa",
      "execution_count": null,
      "outputs": []
    },
    {
      "cell_type": "code",
      "metadata": {},
      "source": [
        "br[3] # gets the word Moonshine"
      ],
      "id": "5f3f805c",
      "execution_count": null,
      "outputs": []
    },
    {
      "cell_type": "markdown",
      "metadata": {},
      "source": [
        "If you want two addresses in a sequence, you can just provide the sequence:\n"
      ],
      "id": "1b328817"
    },
    {
      "cell_type": "code",
      "metadata": {},
      "source": [
        "ar[2:3]"
      ],
      "id": "a6753d8b",
      "execution_count": null,
      "outputs": []
    },
    {
      "cell_type": "markdown",
      "metadata": {},
      "source": [
        "But if you want non-adjacent values, you need to provide the 'list of indices' as an array, which results in the use of `[[ ]]`.\n"
      ],
      "id": "4bd54c31"
    },
    {
      "cell_type": "code",
      "metadata": {},
      "source": [
        "ar[[2,4]]"
      ],
      "id": "7a1c5db8",
      "execution_count": null,
      "outputs": []
    },
    {
      "cell_type": "markdown",
      "metadata": {},
      "source": [
        "Note this would be like using in R `ar[c(2,4)]`.\n",
        "\n",
        "## Broadcasting: something VERY special\n",
        "\n",
        "Broadcasting allows you to apply a function, like a `log()` or `exp()`, in an element-wise manner to an array (in other words apply the function to every element of an array).  \n",
        "\n",
        "We saw above that we can create a vector using `collect()` and multiply this by a scalar\n"
      ],
      "id": "dd0666d5"
    },
    {
      "cell_type": "code",
      "metadata": {},
      "source": [
        "# sequences in a vector\n",
        "# From 0, by 1, to 10...\n",
        "\n",
        "x = collect(0:1:10)\n",
        "\n",
        "# see it\n",
        "x"
      ],
      "id": "8a56c7bc",
      "execution_count": null,
      "outputs": []
    },
    {
      "cell_type": "code",
      "metadata": {},
      "source": [
        "# multply scaler x vector.\n",
        "x*10"
      ],
      "id": "3652bee3",
      "execution_count": null,
      "outputs": []
    },
    {
      "cell_type": "markdown",
      "metadata": {},
      "source": [
        "You can work directly with arrays and pre-built functions to do things like this. To do-so, we combine the function with the (dot) `.` operator.  Let's work with `x_array1` from above.  Note how broadcasting the function across the array returns a vector.\n"
      ],
      "id": "23da892c"
    },
    {
      "cell_type": "code",
      "metadata": {},
      "source": [
        "# Look at the help file for exp10\n",
        "exp_array1 = exp10.(x_array1)"
      ],
      "id": "add4f460",
      "execution_count": null,
      "outputs": []
    },
    {
      "cell_type": "markdown",
      "metadata": {},
      "source": [
        "If you try to do this without the (dot) `.` operator what happens?\n"
      ],
      "id": "04e0963f"
    },
    {
      "cell_type": "code",
      "metadata": {},
      "source": [
        "# look at the help file for log - what is the default!?\n",
        "log_array1 = log.(x_array1)"
      ],
      "id": "3cf2e5b3",
      "execution_count": null,
      "outputs": []
    },
    {
      "cell_type": "markdown",
      "metadata": {},
      "source": [
        "Did you check the help file for `log`?  Is it the same default as we find in **R**?\n",
        "\n",
        "## Matrices\n",
        "\n",
        "Sometimes we'll be interested in a 2-dimensional or higher version of the array/vector, and this is a matrix.  Making a matrix in Julia uses the `[ ]` again, an separates rows of numbers with the `;`\n"
      ],
      "id": "8fdea7a8"
    },
    {
      "cell_type": "code",
      "metadata": {},
      "source": [
        "mat = [1 2 3; 4 5 6]"
      ],
      "id": "7a8d1428",
      "execution_count": null,
      "outputs": []
    },
    {
      "cell_type": "markdown",
      "metadata": {},
      "source": [
        "Note how there are NO commas between the numbers in each row!  This is read as 'rows are separated by ; and columns by spaces'!\n",
        "\n",
        "You can also 'pre-fill' a matrix with zeros.  This is good practice in loops and programming as pre-filling and replacing variables in a matrix is more efficient than creating the matrix on the fly.  Here we demonstrate how to pre-fil a vector, matrix and high dimension array!  Matrices can have more than two dimensions!\n"
      ],
      "id": "47c20d6b"
    },
    {
      "cell_type": "code",
      "metadata": {},
      "source": [
        "vec0 = zeros(2) # 2 zeros allocated in a vector"
      ],
      "id": "5480f3ff",
      "execution_count": null,
      "outputs": []
    },
    {
      "cell_type": "code",
      "metadata": {},
      "source": [
        "mat0 = zeros(2,3) # zeros allocated to 2 rows and 3 columns!"
      ],
      "id": "54f55d9e",
      "execution_count": null,
      "outputs": []
    },
    {
      "cell_type": "code",
      "metadata": {},
      "source": [
        "arr0 = zeros(2,3,4) # 2 rows, 3 columns and 4 dimensions!"
      ],
      "id": "6e2109ce",
      "execution_count": null,
      "outputs": []
    },
    {
      "cell_type": "markdown",
      "metadata": {},
      "source": [
        "Accessing values in a matrix follows the same convention as with the vector.  The convention is `[row, column]`\n"
      ],
      "id": "9b4ae681"
    },
    {
      "cell_type": "code",
      "metadata": {},
      "source": [
        "mat[1,2] # value in the first row and second column"
      ],
      "id": "5adc89b7",
      "execution_count": null,
      "outputs": []
    },
    {
      "cell_type": "code",
      "metadata": {},
      "source": [
        "mat[1:2, 3] # rows 1 AND 2 in the 3rd column"
      ],
      "id": "23267b50",
      "execution_count": null,
      "outputs": []
    },
    {
      "cell_type": "markdown",
      "metadata": {},
      "source": [
        "Finally, to get a row or column, you need to know that we need a placeholder for the _missing_ bit of what you are asking for.  If we want the second row, we ask for row 2, and stick the `:` placeholder in the column spot:\n"
      ],
      "id": "693b7ad8"
    },
    {
      "cell_type": "code",
      "metadata": {},
      "source": [
        "mat[2,:]"
      ],
      "id": "fb1a2cae",
      "execution_count": null,
      "outputs": []
    },
    {
      "cell_type": "markdown",
      "metadata": {},
      "source": [
        "For a column, we reverse this.\n"
      ],
      "id": "929c7fc3"
    },
    {
      "cell_type": "code",
      "metadata": {},
      "source": [
        "mat[:,2]"
      ],
      "id": "752506c8",
      "execution_count": null,
      "outputs": []
    },
    {
      "cell_type": "markdown",
      "metadata": {},
      "source": [
        "### A quick interlude on types\n",
        "\n",
        "As discussed earlier **Julia** is able to infer the type of an object based on the input. So the `mat` object we created earlier will be a matrix of integers i.e. `Matrix{Int64}`.\n"
      ],
      "id": "773ce298"
    },
    {
      "cell_type": "code",
      "metadata": {},
      "source": [
        "typeof(mat)"
      ],
      "id": "2753c554",
      "execution_count": null,
      "outputs": []
    },
    {
      "cell_type": "markdown",
      "metadata": {},
      "source": [
        "So what happens if we want to replace one of the elements with a Float?\n"
      ],
      "id": "f77d7103"
    },
    {
      "cell_type": "code",
      "metadata": {},
      "source": [
        "mat[1,2] = 1.5"
      ],
      "id": "8affbdd4",
      "execution_count": null,
      "outputs": []
    },
    {
      "cell_type": "markdown",
      "metadata": {},
      "source": [
        "This is because we are trying to add a Float to an object that is of the type Integer. What happens if we convert `mat` to be a matrix of floats and then try again?\n"
      ],
      "id": "8ae16b79"
    },
    {
      "cell_type": "code",
      "metadata": {},
      "source": [
        "mat = convert(Matrix{Float64}, mat)\n",
        "mat[1,2] = 1.5"
      ],
      "id": "19e5bf6d",
      "execution_count": null,
      "outputs": []
    },
    {
      "cell_type": "markdown",
      "metadata": {},
      "source": [
        "## Dictionaries\n",
        "\n",
        "Dictionaries are another way to collect information in **Julia**, these look-up tables allow you to organise information (the **key**) with corresponding data (**value**). When we create a dictionary we specify it as 'value' `=>` 'key'. Dictionaries are useful if you need to store a collection of parameters or outputs, especially because the values for each pair can be of a different type.\n"
      ],
      "id": "bd2e22c7"
    },
    {
      "cell_type": "code",
      "metadata": {},
      "source": [
        "parameters = Dict{Symbol,Any}(\n",
        "        :growth_rate => 0.4,\n",
        "        :response => :logistic,\n",
        "        :carry_capacity => 0.28,\n",
        "    )"
      ],
      "id": "376528b7",
      "execution_count": null,
      "outputs": []
    },
    {
      "cell_type": "markdown",
      "metadata": {},
      "source": [
        "We can also add an 'entry' to our dictionary very easily (or change the value)\n"
      ],
      "id": "a9ebfdc2"
    },
    {
      "cell_type": "code",
      "metadata": {},
      "source": [
        "parameters[:abundance] = collect(1:10)"
      ],
      "id": "443ae8cd",
      "execution_count": null,
      "outputs": []
    },
    {
      "cell_type": "markdown",
      "metadata": {},
      "source": [
        "### Looking things up\n",
        "\n",
        "To get a value, if you have the key:\n"
      ],
      "id": "ef730fc7"
    },
    {
      "cell_type": "code",
      "metadata": {},
      "source": [
        "parameters[:growth_rate]"
      ],
      "id": "b3d7d7a7",
      "execution_count": null,
      "outputs": []
    },
    {
      "cell_type": "markdown",
      "metadata": {},
      "source": [
        "You can also get all values using `values()` (and the same for keys using `keys()`). Note that these functions are iterators and they have one job: to iterate through a dictionary value by value (or key by key) so if we want to turn these into an array we need to also call `collect()`\n"
      ],
      "id": "edda321c"
    },
    {
      "cell_type": "code",
      "metadata": {},
      "source": [
        "param_vals = collect(values(parameters))\n",
        "\n",
        "param_keys = collect(keys(parameters))"
      ],
      "id": "d748a5f8",
      "execution_count": null,
      "outputs": []
    }
  ],
  "metadata": {
    "kernelspec": {
      "name": "julia-1.11",
      "language": "julia",
      "display_name": "Julia 1.11.1"
    }
  },
  "nbformat": 4,
  "nbformat_minor": 5
}