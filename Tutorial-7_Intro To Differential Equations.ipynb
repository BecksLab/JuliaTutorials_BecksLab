{
  "cells": [
    {
      "cell_type": "raw",
      "metadata": {},
      "source": [
        "---\n",
        "title: 'Tutorial 7: Introducing Differential Equations'\n",
        "date: now\n",
        "author: 'Danet and Becks, based on originals by Delmas and Griffiths'\n",
        "format:\n",
        "  html:\n",
        "    embed-resources: true\n",
        "title-block-banner: true\n",
        "---"
      ],
      "id": "e278fdb9"
    },
    {
      "cell_type": "code",
      "metadata": {},
      "source": [
        "#| echo: false\n",
        "using DifferentialEquations, Plots, Random"
      ],
      "id": "d27b7d9a",
      "execution_count": null,
      "outputs": []
    },
    {
      "cell_type": "markdown",
      "metadata": {},
      "source": [
        "This document illustrates how to construct and solve differential equations in Julia using the `DifferentialEquations.jl` package. \n",
        "\n",
        "In particular, we are interested in modelling a two species Lotka-Volterra like (predator-prey/consumer-resource) system. Such systems are fundamental in ecology and form the building blocks of complex networks and the models that represent them.\n",
        "\n",
        "For this tutorial you'll need the following two packages: \n",
        "\n",
        "- `DifferentialEquations.jl` to solve the differential equations (same 'engine' as the one used by the `BioEnergeticFoodWebs.jl` model)\n",
        "- `Plots.jl` to visualise the results\n",
        "\n",
        "While we already have `Plots.jl` in this project, we just need to `] add DifferentialEquations`.\n",
        "\n",
        "The `DifferentialEquations.jl` can be a tad clunky so the below code might take a while to compile. If you hit errors, we recommend removing (`] rm DifferentialEquations`) and reinstalling (`] add DifferentialEquations`) the package.\"\n",
        "\n",
        "You probably want to start a new script for this exercise.  File -> New File -> julia\n",
        "\n",
        "### An introduction to Differential Equations.\n",
        "\n",
        "Differential equations are frequently used to model the change in variables of interest through time. These changes are often referred to as derivatives (or `du/dt`). In this case, we are interested in modelling changes in the abundance of a consumer and its resource as a function of the system's key processes (growth, ingestion of food/foraging and mortality) and its parameters.\n",
        "\n",
        "This type of model can be formalised as a simple Lotka-Volterra predator prey model, consisting of a set of differential equations:\n",
        "\n",
        "- Resource dynamics: $\\frac{dR}{dt} = r R (1-\\frac{R}{K}) - \\alpha R C$\n",
        "- Consumer dynamics: $\\frac{dC}{dt} = e \\alpha R C - m C$\n",
        "\n",
        "where $R$ and $C$ are the abundances of the resource and consumer respectively, $r$ is the resource's growth rate, $K$ is the producer's carrying capacity, $\\alpha$ is the consumer's ingestion rate, $e$ is the assimilation efficiency and $m$ is the consumer's mortality rate.\n",
        "\n",
        "To recall from your ecology modules, this is a system of equations with logistic growth for the producers (plants) and a Type I [functional response](https://en.wikipedia.org/wiki/Functional_response) describing how consumer foraging (the loss of prey caused by predators eating them) varies with prey density, a simple conversion efficiency that translates the functional response (eating the prey) into babies of the consumer (predator reproduction) and then a mortality rate for the consumer/predator.\n",
        "\n",
        "A few details to note.\n",
        "\n",
        "- there is only one source of density dependence in this model/system - logistic growth of the producer. Density dependence is required to generate coexistence and stability. \n",
        "- the type I functional response means that the consumer foraging rate increases with prey density and does not saturate.  It means that the mortality rate that consumers impose on the prey is constant and independent of the prey density.  It is thus density independent and does not contribute to stability.  There are two other functional responses.  The Type II, which has saturating consumption rate and generates _inverse_ density dependence, and the Type III, which has accelerating consumption rate with prey density, and thus generates increasing mortality in the prey with increasing prey density, and thus density dependence.  It is only Type III functional responses that are linked to consumers/predators _stabilising_ their prey populations.  It is also a pretty rare functional response!\n",
        "- the consumer mortality rate is also constant and thus density independent.\n",
        "\n",
        "### How does this relate to the Bioenergetic Food Web Model?\n",
        "\n",
        "The complex model of consumer - resource interactions that is represented by the `BEFW` model has at it's heart two equations: one for producers and one for consumers.  So at it's heart, it is not too different in structure to the model above!  However, the differences, spelled out in this [paper] and this [paper], are \n",
        "\n",
        "- the paramters are functions of body size\n",
        "- because of this, we can expand the number of resource and consumer equations for multiple values of body size\n",
        "- this creates a potentially big system of equations, instead of just 2.\n",
        "\n",
        "However, and this is important, the process of solving these equations, whether it is two of them, or 100 of them, is essentially what we are introducing below.  If you were to look inside of the `BEFW` model, you would see the same functions and structure as we introduce here.\n",
        "\n",
        "#### The Three Steps For Simulating Food Web Dynamics\n",
        "\n",
        "There are 3 major steps involved in constructing and solving this model in Julia (these happen to be the same three steps in all programming languages, including R where the `deSolve` package accomplishes much of this same functionality): \n",
        "\n",
        "1. Define a function for your model (i.e., transform the above differential equations into a function that can be read by the solver). This function tells the solver how the variables of interest (here $R$ and $C$) change over time.\n",
        "2. Define the problem. Here, the problem is defined by the function, the parameters ($r$, $\\alpha$, $e$ and $m$), the initial conditions and the timespan of the simulation. In this step you provide the solver with all the details it needs to find the solution.\n",
        "3. Solve!\n",
        "\n",
        "#### Step 1. Define the function\n",
        "Here we construct a function for our model. The function needs to accept the following:\n",
        "\n",
        "- `du` (derivatives) - a vector of changes in abundance for each species \n",
        "- `u` (values) - a vector of abundance for each species\n",
        "- `p` (parameters) - a list of parameter values \n",
        "- `t` (time) - timespan\n"
      ],
      "id": "16a5cc97"
    },
    {
      "cell_type": "code",
      "metadata": {},
      "source": [
        "function LV_model(du,u,p,t)\n",
        "   # growth rate of the resource (modelled as a logistic growth function)\n",
        "   GrowthR = p.growthrate * u[1] * (1 - u[1]/p.K) \n",
        "   # rate of resource ingestion by consumer (modelled as a type I functional response)\n",
        "   IngestC = p.ingestrate * u[1] * u[2]\n",
        "   # mortality of consumer (modelled as density independent)\n",
        "   MortC = p.mortrate * u[2]\n",
        "   # calculate and store changes in abundance (du/dt):\n",
        "   # change in resource abundance\n",
        "   du[1] = GrowthR - IngestC\n",
        "   # change in consumer abundance\n",
        "   du[2] = p.assimeff * IngestC - MortC\n",
        "end"
      ],
      "id": "e5a8ff72",
      "execution_count": null,
      "outputs": []
    },
    {
      "cell_type": "markdown",
      "metadata": {},
      "source": [
        "You'll notice that in the above function (`LV_model`), we've specified specific parameters using the `p.name` notation. This is because we've opted to store our parameters in a named tuple called `p`. `p` is created below but it's worth noting that when this notation is used e.g., `p.growthrate`, we are telling Julia that we want to use the value of `growthrate` that is stored as a named part of our tuple (a fancy name for an object in Julia) `p`.\n",
        "\n",
        "#### Step 2. Define the problem\n",
        "\n",
        "To define the problem we first have to fix the system's parameters, the initial values and the timespan of the simulation:\n"
      ],
      "id": "7bd50426"
    },
    {
      "cell_type": "code",
      "metadata": {},
      "source": [
        "p = (\n",
        "    growthrate = 1.0, # growth rate of resource (per day)\n",
        "    ingestrate = 0.2, # rate of ingestion (per day)\n",
        "    mortrate = 0.2,   # mortality rate of consumer (per day)\n",
        "    assimeff = 0.5,   # assimilation efficiency\n",
        "    K = 10            # carrying capacity of the system (mmol/m3)\n",
        "    )"
      ],
      "id": "ac4250da",
      "execution_count": null,
      "outputs": []
    },
    {
      "cell_type": "markdown",
      "metadata": {},
      "source": [
        "Here, we have chosen to define `p` as a named tuple (similar to a list in R). A vector or dictionary would also work, however, named tuples are advantageous because they allow us to use explicit names and are unmutable meaning that once it's created you can't change it.\n",
        "\n",
        "- **Initial values:**\n",
        "For simplicity, we start with $R = C = 1$:\n"
      ],
      "id": "d81fa070"
    },
    {
      "cell_type": "code",
      "metadata": {},
      "source": [
        "u0 = [1.0; 1.0]"
      ],
      "id": "5e19a1bd",
      "execution_count": null,
      "outputs": []
    },
    {
      "cell_type": "markdown",
      "metadata": {},
      "source": [
        "- **Timespan:**\n"
      ],
      "id": "900d39c9"
    },
    {
      "cell_type": "code",
      "metadata": {},
      "source": [
        "tspan = (0.0,100.0) # you have to use a Pair (tuple with 2 values) of floating point numbers."
      ],
      "id": "748a5689",
      "execution_count": null,
      "outputs": []
    },
    {
      "cell_type": "markdown",
      "metadata": {},
      "source": [
        "We then formally define the problem by passing the function (`LV_model`), the parameters (listed in our named tuple `p`), the initial values (`u0`) and the timespan (`tspan`) to `ODEProblem()`:\n"
      ],
      "id": "3ff1c6d7"
    },
    {
      "cell_type": "code",
      "metadata": {},
      "source": [
        "prob = ODEProblem(LV_model, u0, tspan, p)"
      ],
      "id": "de946843",
      "execution_count": null,
      "outputs": []
    },
    {
      "cell_type": "markdown",
      "metadata": {},
      "source": [
        "#### Step 3. Solve\n",
        "\n",
        "To solve the problem, we pass the `ODEProblem` object to the solver. \n",
        "\n",
        "Here we have chosen to use the default algorithm because it's a simple problem, however there are several available - see [here](https://diffeq.sciml.ai/dev/solvers/ode_solve/) for more information. These two final steps (define and solve the problem) are analogous to using the `deSolve` package in R.\"\n"
      ],
      "id": "94781ba0"
    },
    {
      "cell_type": "code",
      "metadata": {},
      "source": [
        "#| output: false\n",
        "sol = solve(prob)"
      ],
      "id": "4e59839e",
      "execution_count": null,
      "outputs": []
    },
    {
      "cell_type": "markdown",
      "metadata": {},
      "source": [
        "The solver produces 2 objects: `sol.t` and `sol.u` that respectivley store the time steps and the variables of interest through time. Let's have a look.\n",
        "\n",
        "#### Step 4. Visualise the outputs\"\n",
        "\n",
        "Once the problem has been solved, the results can be explored and plotted. In fact, the `DifferentialEquations.jl` package has its own built in plotting recipe that provides a very fast and conventient way of visualing the abundance of the two species through time:\n"
      ],
      "id": "f1713d03"
    },
    {
      "cell_type": "code",
      "metadata": {},
      "source": [
        "plot(sol, \n",
        "\tylabel = \"Abundance\", \n",
        "\txlabel = \"Time\", \n",
        "\ttitle = \"Lotka-Volterra\", \n",
        "\tlabel = [\"prey\" \"predator\"], \n",
        "\tlinestyle = [:dash :dot], \n",
        "\tlw = 2) "
      ],
      "id": "61291329",
      "execution_count": null,
      "outputs": []
    },
    {
      "cell_type": "markdown",
      "metadata": {},
      "source": [
        "One thing to note here, when plotting in Julia you don't need to seperate label names (`label = [prey predator]`) or linestyles (`linestyle = [:dash :dot]`) with a comma as you would in R. This will also be case for most plotting options in Julia.\n",
        "\n",
        "#### Step 5. Play some games\n",
        "\n",
        "Now that you see how this works, perhaps you can do a bit of an experiment by varying things in the `p = ` (paramters) part of the code?\n",
        "\n",
        "- Can you increase the number of time steps?\n",
        "- What happens when you increase `K`?\n",
        "- What happens when you increase or decrease `growthrate`?\n",
        "- What happens when you change the `ingestrate`\n",
        "\n",
        "#### EXTRA CREDIT\n",
        "\n",
        "If you are really keen.... how about trying to run the model in a loop over 3 values of `growthrate`, collect the final population size of the consumer and resource in a data frame with three columns (`growthrate`, finalCons, finalRes), and plot these values?"
      ],
      "id": "4e739f94"
    }
  ],
  "metadata": {
    "kernelspec": {
      "name": "julia-1.8",
      "language": "julia",
      "display_name": "Julia 1.8.5"
    }
  },
  "nbformat": 4,
  "nbformat_minor": 5
}