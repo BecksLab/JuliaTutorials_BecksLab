{
  "cells": [
    {
      "cell_type": "raw",
      "metadata": {},
      "source": [
        "---\n",
        "title: 'Tutorial 8: Introducing Ecological Network Dynamics (BEFWM2)'\n",
        "date: now\n",
        "author: 'Danet and Becks, based on originals by Delmas and Griffiths'\n",
        "format:\n",
        "  html:\n",
        "    embed-resources: true\n",
        "title-block-banner: true\n",
        "---"
      ],
      "id": "79fb5ce5"
    },
    {
      "cell_type": "code",
      "metadata": {},
      "source": [
        "#| echo: false\n",
        "using DataFrames, Plots, Random, Distributions\n",
        "using EcologicalNetworks, EcologicalNetworksPlots, BEFWM2"
      ],
      "id": "f87c465b",
      "execution_count": null,
      "outputs": []
    },
    {
      "cell_type": "markdown",
      "metadata": {},
      "source": [
        "Navigate to the [GitHub location for the BioEnergetic Model](https://github.com/BecksLab/EcologicalNetworksDynamics.jl).\n",
        "\n",
        "It should look like this:\n",
        "\n",
        "![GitHubPageForBEFW](Figs/BEFWGit.png)\n",
        "\n",
        "Then download to your Documents Folder the package.\n",
        "\n",
        "![DownloadTheZip](Figs/DownloadZip.png)\n",
        "\n",
        "Once this folder is unzipped in your Documents Folder, you can _install_ it using `Pkg.develop`.\n"
      ],
      "id": "794bdd98"
    },
    {
      "cell_type": "code",
      "metadata": {},
      "source": [
        "#| eval: false\n",
        "using Pkg\n",
        "Pkg.develop(path = \"~/Documents/EcologicalNetworksDynamics.jl-main/\")"
      ],
      "id": "45818687",
      "execution_count": null,
      "outputs": []
    },
    {
      "cell_type": "code",
      "metadata": {},
      "source": [
        "#| eval: false\n",
        "## My first BEFW Modelling\n",
        "\n",
        "## Packages I need\n",
        "using BEFWM2, DataFrames, Random, Plots, EcologicalNetworksPlots\n",
        "\n",
        "## Time to do some Experiments!"
      ],
      "id": "bfdca94e",
      "execution_count": null,
      "outputs": []
    },
    {
      "cell_type": "markdown",
      "metadata": {},
      "source": [
        "### Preamble\n",
        "\n",
        "One of main advantages of running food web models in Julia is that simulations are fast and can be readily stored in your active project. With this in mind, make a new folder in your project called `out_objects` (right click > New Folder).\n",
        "\n",
        "### A first run of the Ecological Network Dynamics model (BEFW)\n",
        "\n",
        "There are four major steps when running the BioEnergetic Food Web model in Julia.  These should be familiar from our introduction to the `DifferentialEquations` package:\n",
        "\n",
        "1. Generate an initial food web network\n",
        "2. Set the parameters for each species in the network to generate the equations\n",
        "3. Simulate the network and equations\n",
        "4. Explore output and plot\n",
        "\n",
        "While in the previous example with `Differential Equations` we assumed a simple 2-species network, one of the new activities here is to take advantage of a rich history of theory and tools to construct species rich networks with appropriate structural properties, such as _connectance/complexity_ and levels of _generalism/specialism_ and things the number of trophic levels and a body size distribtion of the species across trophic levels.\n",
        "\n",
        "#### Step 1: generate an initial network\n",
        "\n",
        "Here we make a foodweb, actually, a food chain, from an _adjacency matrix_ with the FoodWeb method.\n"
      ],
      "id": "2f6ec98d"
    },
    {
      "cell_type": "code",
      "metadata": {},
      "source": [
        "A = [0 0 0; 1 0 0; 0 1 0] # 1 basal producer ⋅ Species 2 eats 1 ⋅ Species 3 eats 2\n",
        "foodweb = FoodWeb(A)"
      ],
      "id": "591a5736",
      "execution_count": null,
      "outputs": []
    },
    {
      "cell_type": "markdown",
      "metadata": {},
      "source": [
        "#### Step 2: Generate the model parameters\n",
        "\n",
        "Once the foodweb is created, the next step is to attribute values to the model parameters. This can be simply done by calling the method ModelParameters with foodweb as an argument.\n"
      ],
      "id": "a728dc98"
    },
    {
      "cell_type": "code",
      "metadata": {},
      "source": [
        "# construct the equations and fixed parameters\n",
        "# see below for body size dependent parameters etc\n",
        "params = ModelParameters(foodweb)"
      ],
      "id": "af29af0e",
      "execution_count": null,
      "outputs": []
    },
    {
      "cell_type": "markdown",
      "metadata": {},
      "source": [
        "#### Step 3: Simulate biomass dynamics\n",
        "\n",
        "Everything is ready to run the simulation, which can be simply done by calling simulate with the model parameters (params) and a vector species' initial biomass (B0).\n"
      ],
      "id": "19451a66"
    },
    {
      "cell_type": "code",
      "metadata": {},
      "source": [
        "# create body sizes for each species\n",
        "B0 = [0.5, 0.5, 0.5]\n",
        "\n",
        "# use simulate function\n",
        "# builds equations and uses DiffEq to run them!\n",
        "sim = simulate(params, B0)"
      ],
      "id": "c1bc7484",
      "execution_count": null,
      "outputs": []
    },
    {
      "cell_type": "markdown",
      "metadata": {},
      "source": [
        "#### Step 4: Seeing the outputs!\n",
        "\n",
        "Eventually you may want to plot the biomass dynamics - the trajectory -  of your community to see what is happening. For our minimal example, it can be done as follows:\n"
      ],
      "id": "906b2c2f"
    },
    {
      "cell_type": "code",
      "metadata": {},
      "source": [
        "# create multiple objects: time = t and Bx = biomass for each species\n",
        "# note how julia allows multiple things on left of = sign!\n",
        "t, B1, B2, B3 = sim.t, sim.B[:,1], sim.B[:,2], sim.B[:,3]; # unpack variables\n",
        "\n",
        "# Plot the basal species\n",
        "plot(t, B1, lw = 3, label=\"Producer\", xlabel = \"Time\", ylabel = \"Biomass\")\n",
        "# add the herbivore\n",
        "plot!(t, B2, lw = 3, label=\"Consumer\")\n",
        "# add the top predator\n",
        "plot!(t, B3, lw = 3, label=\"Top consumer\")"
      ],
      "id": "a3c93a0c",
      "execution_count": null,
      "outputs": []
    },
    {
      "cell_type": "markdown",
      "metadata": {},
      "source": [
        "## A More Complex Example\n",
        "\n",
        "#### Step 1: Generae the initial network\n",
        "\n",
        "In order to run the BEFW model with a more complex network, we have to construct an initial food web network (an adjacency matrix) using [the niche model](https://www.nature.com/articles/35004572?cacheBust=1510239451067). The network is characterised by the number of species in the network and its [connectance/complexity](https://en.wikipedia.org/wiki/Ecological_network) value.\n",
        "\n",
        "Note that we are now using functionality provided by the `EcologicalNetworks` package.\n"
      ],
      "id": "804ca3fc"
    },
    {
      "cell_type": "code",
      "metadata": {},
      "source": [
        "S = 20; # define the number of species\n",
        "C = 0.2; # define the connectance (complexity) of the network\n",
        "\n",
        "# construct the food web\n",
        "foodweb_niche = FoodWeb(nichemodel, S, C=C)\n",
        "\n",
        "# see it:\n",
        "foodweb_niche.A"
      ],
      "id": "6158bebe",
      "execution_count": null,
      "outputs": []
    },
    {
      "cell_type": "markdown",
      "metadata": {},
      "source": [
        "As above, our next step is to define a vector of bodymasses and then pass this, and the network to the `simulate` function.  Here we combine the `Uniform` function from the _Distributions_ package with the `rand` function from the _Random_ package.\n"
      ],
      "id": "7967191b"
    },
    {
      "cell_type": "code",
      "metadata": {},
      "source": [
        "# construct the equations and fixed parameters\n",
        "# see below for body size dependent parameters etc\n",
        "params_niche = ModelParameters(foodweb_niche)\n",
        "\n",
        "# define bodymasses between 0 and 1 and get S = 20 of them.\n",
        "# this will ensure your plot looks like the one in the document\n",
        "Random.seed!(123)\n",
        "B0 = rand(S)\n",
        "\n",
        "# simulate using params and bodymasses\n",
        "sim_niche = simulate(params_niche, B0, stop = 100)"
      ],
      "id": "7c306f66",
      "execution_count": null,
      "outputs": []
    },
    {
      "cell_type": "markdown",
      "metadata": {},
      "source": [
        "Now we can move to plotting again.  Note how we now ask for the time directly from the simulate object and all of the biomasses from that object as well.\n",
        "\n",
        "Note too how we can supress the legend (which covers some of the time series).\n"
      ],
      "id": "0674d07f"
    },
    {
      "cell_type": "code",
      "metadata": {},
      "source": [
        "plot(sim_niche[:t], (sim_niche[:B]), legend = false)"
      ],
      "id": "eb26295c",
      "execution_count": null,
      "outputs": []
    },
    {
      "cell_type": "markdown",
      "metadata": {},
      "source": [
        "One game to play now is to alter the bodymass distribution. `rand` selects a randon uniform number between 0 and 1.  Can you figure out how to make the distribution uniform between 0 and 10?  See what that does."
      ],
      "id": "70af1c89"
    }
  ],
  "metadata": {
    "kernelspec": {
      "name": "julia-1.8",
      "language": "julia",
      "display_name": "Julia 1.8.5"
    }
  },
  "nbformat": 4,
  "nbformat_minor": 5
}