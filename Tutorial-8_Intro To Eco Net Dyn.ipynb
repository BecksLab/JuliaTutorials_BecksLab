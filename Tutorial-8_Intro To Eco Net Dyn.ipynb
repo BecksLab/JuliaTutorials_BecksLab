{
  "cells": [
    {
      "cell_type": "raw",
      "id": "1b031333",
      "metadata": {},
      "source": [
        "---\n",
        "title: 'Tutorial 8: Introducing Ecological Network Dynamics (BEFWM2)'\n",
        "date: now\n",
        "author: 'Danet and Becks, based on originals by Delmas and Griffiths'\n",
        "format:\n",
        "  html:\n",
        "    embed-resources: true\n",
        "title-block-banner: true\n",
        "---"
      ]
    },
    {
      "attachments": {},
      "cell_type": "markdown",
      "id": "1c2b2c2d",
      "metadata": {},
      "source": [
        "This section of the tutorials initiates you into using the Bioenergetic Food Web Model.\n",
        "\n",
        "## Getting the Julia Package\n"
      ]
    },
    {
      "cell_type": "code",
      "execution_count": null,
      "id": "e6129ca5",
      "metadata": {
        "vscode": {
          "languageId": "julia"
        }
      },
      "outputs": [],
      "source": [
        "#| echo: false\n",
        "using DataFrames, Plots, Random, Distributions\n",
        "using EcologicalNetworks, EcologicalNetworksPlots, EcologicalNetworksDynamics"
      ]
    },
    {
      "attachments": {},
      "cell_type": "markdown",
      "id": "470ec012",
      "metadata": {},
      "source": [
        "**FOR ALL USERS AS OF JUNE 2023**\n",
        "\n",
        "Navigate to the shared google drive.\n",
        "**Copy** (e.g. do NOT drag) `EcologicalNetworksDynamics.jl-ni_usecase` from the drive folder to your Documents folder\n",
        "\n",
        "In the Julia REPL, type\n",
        "\n",
        "`using Pkg`\n",
        "\n",
        "Then, enter the package management zone by typing `]`\n",
        "Finally enter this detail.\n",
        "\n",
        "Mac:\n",
        "`dev ~/Documents/EcologicalNetworksDynamics.jl-ni_usecase`\n",
        "\n",
        "PC\n",
        "`dev C:/Users/YOURUSERNAME/Documents/EcologicalNetworksDynamics.jl-ni_usecase`\n",
        "\n",
        "\n",
        "**Currently Not Available for Guest Users**\n",
        "**DO NOT USE - Move to ## Setting Up to Use the Ecological Networks Dynamics modelling**\n",
        "\n",
        "Navigate to the [GitHub location for the BioEnergetic Model](https://github.com/BecksLab/EcologicalNetworksDynamics.jl).\n",
        "\n",
        "It should look like this:\n",
        "\n",
        "![GitHubPageForBEFW](Figs/BEFWGit.png)\n",
        "\n",
        "Then download to your Documents Folder the package.\n",
        "\n",
        "![DownloadTheZip](Figs/DownloadZip.png)\n",
        "\n",
        "Once this folder is unzipped in your Documents Folder, you can _install_ it using `Pkg.develop`.\n"
      ]
    },
    {
      "cell_type": "code",
      "execution_count": null,
      "id": "d6317791",
      "metadata": {
        "vscode": {
          "languageId": "julia"
        }
      },
      "outputs": [],
      "source": [
        "#| eval: false\n",
        "using Pkg\n",
        "Pkg.develop(path = \"~/Documents/EcologicalNetworksDynamics.jl-main/\")"
      ]
    },
    {
      "attachments": {},
      "cell_type": "markdown",
      "id": "678201bc",
      "metadata": {},
      "source": [
        "## Setting Up to Use the Ecological Networks Dynamics modelling\n",
        "\n",
        "\n",
        "And now, you are ready to construct a script using the modelling tools!\n"
      ]
    },
    {
      "cell_type": "code",
      "execution_count": null,
      "id": "10b9f930",
      "metadata": {
        "vscode": {
          "languageId": "julia"
        }
      },
      "outputs": [],
      "source": [
        "#| eval: false\n",
        "## My first BEFW Modelling\n",
        "\n",
        "## Packages I need\n",
        "using DataFrames, Plots, Random, Distributions\n",
        "using EcologicalNetworks, EcologicalNetworksPlots, EcologicalNetworksDynamics\n",
        "\n",
        "## Time to do some Experiments!"
      ]
    },
    {
      "attachments": {},
      "cell_type": "markdown",
      "id": "639d5377",
      "metadata": {},
      "source": [
        "## Using the Julia Package\n",
        "\n",
        "### Preamble: The Bioenergetic Food Web.\n",
        "\n",
        "It is very worth pausing for a moment and visting [this paper](https://besjournals.onlinelibrary.wiley.com/doi/full/10.1111/2041-210x.12713) by Dr. Eva Delmas. It describes the BioEnergetic Food Web Model, provides some history of the model, and also showcases how the original **Julia** version of the model worked.  This section of the tutorials is designed to introduce a newer, faster and more flexible version of the **Julia** package.\n",
        "\n",
        "A very basic interpretation of the model is as follows:\n",
        "\n",
        "1. The model is a model of biomass dynamics, not numbers of indiduals.\n",
        "2. The model is comprised of an equation for plants (producers) an equation for consumers (herbivores, predators).\n",
        "3. Plants have traits that make their biomass grow and sets their carrying capacity; they are eaten by consumers via an equation describing a functional response.  To link to ecology courses you have, this can be logistic growth for the plant and a type II functional response.\n",
        "4. Consumer have three sets of traits.  One is metabolism, which is a rate that describes losses of biomass due to, well, metabolism!  The second set of traits correspond to the functional response - for example describing attack rates and handling times of prey items.  The third corresponds to the numerical response, or the conversion of biomass they eat into new biomass (e.g. babies)\n",
        "5. We can make complex networks and systems of these equations by letting many of these paramters _scale with body size_ via the rules of allometry and the Metabolic Theory of Ecology.  This _trick_ expands the two equations to n = number of species when we provide the toolbox with a list of species biomasses.\n",
        "6. Embedded in this process are rules about how to distribute species of different sizes across trophic levels, so that we end up with predators, omnivores, herbivores and plants.  We can also designate the body size relationships for different groups of organisms, like producers, invertebrates, endothermic vertebrates and ectothermic vertebrates.\n",
        "7. Once we've done this, we can simulate the biomass dynamics of complext communities.  And we can summarise things like changes in biodiversity (number of species), stability (coefficient of variation of the time series) and anything about the biomass of species, trophic levels or the community!\n",
        "\n",
        "### Preamble: Setup\n",
        "\n",
        "One of main advantages of running food web models in Julia is that simulations are fast and can be readily stored in your active project. With this in mind, make a new folder in your project called `out_objects` (right click > New Folder).\n",
        "\n",
        "### A first run of the Ecological Network Dynamics model (BEFW)\n",
        "\n",
        "There are four major steps when running the BioEnergetic Food Web model in Julia.  These should be familiar from our introduction to the `DifferentialEquations` package:\n",
        "\n",
        "1. Generate an initial food web network\n",
        "2. Set the parameters for each species in the network to generate the equations\n",
        "3. Simulate the network and equations\n",
        "4. Explore output and plot\n",
        "\n",
        "While in the previous example with `Differential Equations` we assumed a simple 2-species network, one of the new activities here is to take advantage of a rich history of theory and tools to construct species rich networks with appropriate structural properties, such as _connectance/complexity_ and levels of _generalism/specialism_ and things the number of trophic levels and a body size distribtion of the species across trophic levels.\n",
        "\n",
        "#### Step 1: generate an initial network\n",
        "\n",
        "Here we make a foodweb, actually, a food chain, from an _adjacency matrix_ with the FoodWeb method.\n"
      ]
    },
    {
      "cell_type": "code",
      "execution_count": null,
      "id": "de458787",
      "metadata": {
        "vscode": {
          "languageId": "julia"
        }
      },
      "outputs": [],
      "source": [
        "A = [0 0 0; 1 0 0; 0 1 0] # 1 basal producer ⋅ Species 2 eats 1 ⋅ Species 3 eats 2\n",
        "foodweb = FoodWeb(A)"
      ]
    },
    {
      "attachments": {},
      "cell_type": "markdown",
      "id": "a35187b2",
      "metadata": {},
      "source": [
        "#### Step 2: Generate the model parameters\n",
        "\n",
        "Once the foodweb is created, the next step is to attribute values to the model parameters. This can be simply done by calling the method ModelParameters with foodweb as an argument.\n"
      ]
    },
    {
      "cell_type": "code",
      "execution_count": null,
      "id": "668d278f",
      "metadata": {
        "vscode": {
          "languageId": "julia"
        }
      },
      "outputs": [],
      "source": [
        "# construct the equations and fixed parameters\n",
        "# see below for body size dependent parameters etc\n",
        "params = ModelParameters(foodweb)"
      ]
    },
    {
      "attachments": {},
      "cell_type": "markdown",
      "id": "dce3b762",
      "metadata": {},
      "source": [
        "#### Step 3: Simulate biomass dynamics\n",
        "\n",
        "Everything is ready to run the simulation, which can be simply done by calling simulate with the model parameters (params) and a vector species' initial biomass (B0).\n"
      ]
    },
    {
      "cell_type": "code",
      "execution_count": null,
      "id": "95d5a70c",
      "metadata": {
        "vscode": {
          "languageId": "julia"
        }
      },
      "outputs": [],
      "source": [
        "# create body sizes for each species\n",
        "B0 = [0.5, 0.5, 0.5]\n",
        "\n",
        "# use simulate function\n",
        "# builds equations and uses DiffEq to run them!\n",
        "sim = simulate(params, B0)"
      ]
    },
    {
      "attachments": {},
      "cell_type": "markdown",
      "id": "135c91a2",
      "metadata": {},
      "source": [
        "#### Step 4: Seeing the outputs!\n",
        "\n",
        "To plot the time series, we can use the actual `simulate` object directly.\n"
      ]
    },
    {
      "cell_type": "code",
      "execution_count": null,
      "id": "82266124",
      "metadata": {
        "vscode": {
          "languageId": "julia"
        }
      },
      "outputs": [],
      "source": [
        " plot(sim, label = [\"Producer\" \"Consumer\" \"Top consumer\";])"
      ]
    },
    {
      "attachments": {},
      "cell_type": "markdown",
      "id": "428c37a4",
      "metadata": {},
      "source": [
        "Eventually you may want to plot the biomass dynamics - the trajectory -  of your community to see what is happening. For our minimal example, it can be done as follows:\n"
      ]
    },
    {
      "cell_type": "code",
      "execution_count": null,
      "id": "c5230266",
      "metadata": {
        "vscode": {
          "languageId": "julia"
        }
      },
      "outputs": [],
      "source": [
        "# create multiple objects: time = t pulled frpom the sim.t component\n",
        "# and Bx = biomass for each species pulled from the larger sim object\n",
        "# note how julia allows multiple things on left of the =\n",
        "t, B1, B2, B3 = sim.t, sim[1,:], sim[2,:], sim[3,:]; # unpack variables\n",
        "\n",
        "# Plot the basal species\n",
        "plot(t, B1, lw = 3, label=\"Producer\", xlabel = \"Time\", ylabel = \"Biomass\")\n",
        "# add the herbivore\n",
        "plot!(t, B2, lw = 3, label=\"Consumer\")\n",
        "# add the top predator\n",
        "plot!(t, B3, lw = 3, label=\"Top consumer\")"
      ]
    },
    {
      "attachments": {},
      "cell_type": "markdown",
      "id": "78e0f316",
      "metadata": {},
      "source": [
        "## A More Complex Example\n",
        "\n",
        "#### Step 1: Generate the initial network\n",
        "\n",
        "In order to run the BEFW model with a more complex network, we have to construct an initial food web network (an adjacency matrix) using [the niche model](https://www.nature.com/articles/35004572?cacheBust=1510239451067). The network is characterised by the number of species in the network and its [connectance/complexity](https://en.wikipedia.org/wiki/Ecological_network) value.\n",
        "\n",
        "Note that we are now using functionality provided by the `EcologicalNetworks` package.\n"
      ]
    },
    {
      "cell_type": "code",
      "execution_count": null,
      "id": "282f7fb1",
      "metadata": {
        "vscode": {
          "languageId": "julia"
        }
      },
      "outputs": [],
      "source": [
        "S = 20; # define the number of species\n",
        "C = 0.2; # define the connectance (complexity) of the network\n",
        "\n",
        "# construct the food web\n",
        "Random.seed!(12325) # ensures your network and this one are the same\n",
        "foodweb_niche = FoodWeb(nichemodel, S, C=C)\n",
        "\n",
        "# see it:\n",
        "foodweb_niche.A"
      ]
    },
    {
      "attachments": {},
      "cell_type": "markdown",
      "id": "93a46c97",
      "metadata": {},
      "source": [
        "#### Step 2. Setting up the paramters, body masses (species) and running the model!\n",
        "\n",
        "As above, our next step is to define a vector of bodymasses and then pass this, and the network to the `simulate` function.  Here we combine the `Uniform` function from the _Distributions_ package with the `rand` function from the _Random_ package.\n"
      ]
    },
    {
      "cell_type": "code",
      "execution_count": null,
      "id": "68683993",
      "metadata": {
        "vscode": {
          "languageId": "julia"
        }
      },
      "outputs": [],
      "source": [
        "# construct the equations and fixed parameters\n",
        "# see below for body size dependent parameters etc\n",
        "params_niche = ModelParameters(foodweb_niche)\n",
        "\n",
        "# define bodymasses between 0 and 1 and get S = 20 of them.\n",
        "# this will ensure your plot looks like the one in the document\n",
        "Random.seed!(123)\n",
        "B0 = rand(S)\n",
        "\n",
        "# simulate using params and bodymasses\n",
        "# note additional argument tmax for max time steps\n",
        "# default is 300\n",
        "sim_niche = simulate(params_niche, B0)"
      ]
    },
    {
      "attachments": {},
      "cell_type": "markdown",
      "id": "cc7a7440",
      "metadata": {},
      "source": [
        "#### Step 3. Visualising the dynamics\n",
        "\n",
        "Now we can move to plotting again.  Note how we now ask for the time directly from the simulate object and all of the biomasses from that object as well.\n",
        "\n",
        "Note too how we can supress the legend (which covers some of the time series).\n"
      ]
    },
    {
      "cell_type": "code",
      "execution_count": null,
      "id": "e76d3ef5",
      "metadata": {
        "vscode": {
          "languageId": "julia"
        }
      },
      "outputs": [],
      "source": [
        "plot(sim_niche, legend = false)"
      ]
    },
    {
      "attachments": {},
      "cell_type": "markdown",
      "id": "cf65787f",
      "metadata": {},
      "source": [
        "One game to play now is to alter the bodymass distribution. `rand` selects a randon uniform number between 0 and 1.  Can you figure out how to make the distribution uniform between 0 and 10?  See what that does.\n",
        "\n",
        "#### A bit more about the process: dissecting the ModelParameters\n",
        "\n",
        "Let's dissect the ModelParameters object a bit, to understand just a bit more about what is going on.\n"
      ]
    },
    {
      "cell_type": "code",
      "execution_count": null,
      "id": "6c6ba353",
      "metadata": {
        "vscode": {
          "languageId": "julia"
        }
      },
      "outputs": [],
      "source": [
        "params_niche"
      ]
    },
    {
      "attachments": {},
      "cell_type": "markdown",
      "id": "f2bc40dc",
      "metadata": {},
      "source": [
        "Walking through this\n",
        "\n",
        "1. The `network` component defines the food web and reports the number of species and the links\n",
        "2. the `environment` component reports on values of the carrying capacity (K) and the baseline temperature (`T`).  Note that K is specified only for the basal species via `[1, 1, ... nothing, nothing]`.  All the producers have the same K at this point (1,1,1...). The presence of the `T` suggests that we can ultimately work with climate change by running the model at different temperatures.  There is a way to make some of the biorates and components of the functional response (see 3, 4) dependent not only on body mass, but also on temperature.\n",
        "3. the `biorates` component contains detail on parameters central to making the model reflect a bit of reality: `d` is ...; `r` is the intrinsic rate of increase (population growth rate) for the producers (plants); `x` and `y` are paramters associated with metabolic rates and consumption rates of the consumers (non-plant species).  Finally, `e` is an efficiency/assimilation rate for the consumers eating either plants or other animals.\n",
        "4. the `functional_response` component defines the type of _consumption function_ being used (e.g. Type I, II, or III sensu classic ecology and Holling).  The functional response defines the _interaction strength_ between species and how consumers change how much they eat dependent on the amount (density) of resource available.There are two options.  The default `Bioenergetic Response` corresponds to a _phenomenological_ formulation where there are just two variables that describe how consumer consumption varies with resource density: a _half-saturation_ parameter and an _asymptote_.  The alternative called `Classic Response` is more _trait based_ and includes the parameters _attack rate_ and _handling time_.  There are several other features of the functional response that can be manipulated, and these are introduced in later tutorials.\n",
        "5. the `producer_growth` details the default that all plants are growing logistically.\n",
        "6. the `temperature response`componewnt defines the absence or presence of temperature dependence, and when present, the shape of the relationship between biorates and functional response parameters and temperature.\n",
        "\n",
        "### Helper Functions: What can we do with the outputs?\n",
        "\n",
        "As noted in the pre-amble, we are most often interested in additional information about the scenarios we build with the models.  These include, for example, total biomass, biodiversity and stability.  Let's see how we can calcuate some of these.  Keep in mind that to use these, we have to provide a model output AND a declaration of over how many time steps we want to calculate the metrics.  For example, we probably want to calculate most of these metrics when the system is at equilibrium.\n",
        "\n",
        "#### Before you start with the helper functions\n",
        "\n",
        "In order to use these helper functions, we need to know the number of time steps that our model has produced.\n",
        "\n",
        "It is important to know that 'time' is rather abstract in these models, partly because the integration of the equations to make the dynamics happens at a fine scale.  In order to understand what the number of data points are in your simulation, you can look at the `sim.t` part of the outputs.\n",
        "\n",
        "The other important thing to note is that the simulation have a built in stop point when the populations get to an equilibrium.  This means that even if we were to ask for n= 100000 time steps, the simulations will stop when this 'rule' is met.\n",
        "\n",
        "Finally, the algorithm is an adaptive one, so the number of output data points does not match 'time'\n",
        "\n",
        "We can find out what the number of steps is using the following code.\n"
      ]
    },
    {
      "cell_type": "code",
      "execution_count": null,
      "id": "2d151b5a",
      "metadata": {
        "vscode": {
          "languageId": "julia"
        }
      },
      "outputs": [],
      "source": [
        "size(sim_niche.t) # this has 58 time points"
      ]
    },
    {
      "attachments": {},
      "cell_type": "markdown",
      "id": "98bf71e3",
      "metadata": {},
      "source": [
        "This little trick tells us the max number of time steps we can specify to calculate things, like the average biomass, stability, etc.\n",
        "\n",
        "#### Using Some Helper Functions\n",
        "\n",
        "First, we can get a meaure of total biomass in the community\n"
      ]
    },
    {
      "cell_type": "code",
      "execution_count": null,
      "id": "0876e0e9",
      "metadata": {
        "vscode": {
          "languageId": "julia"
        }
      },
      "outputs": [],
      "source": [
        "# we use last = 30 because the max is 58\n",
        "biomass(sim_niche, last = 4).total"
      ]
    },
    {
      "attachments": {},
      "cell_type": "markdown",
      "id": "abdf2fb0",
      "metadata": {},
      "source": [
        "Second, we can an estimate of species persistence - how many have gone extinct!  Remember that we started with 20, so a value of 0.6 means that there are 12 species left.\n"
      ]
    },
    {
      "cell_type": "code",
      "execution_count": null,
      "id": "c6f5240b",
      "metadata": {
        "vscode": {
          "languageId": "julia"
        }
      },
      "outputs": [],
      "source": [
        "# here we specify last = 1 to get the estimate of % remaining from the start to end.\n",
        "species_persistence(sim_niche, last = 1)"
      ]
    },
    {
      "attachments": {},
      "cell_type": "markdown",
      "id": "904aca9f",
      "metadata": {},
      "source": [
        "Third, we can look at stability, defined as the average coefficient of variation estimated across all of the coefficients of variation for each species.  The CV is a measure of standardised variation - the standard deviation / mean (https://en.wikipedia.org/wiki/Coefficient_of_variation).  It is not 'stability' per se, but an estimation of how variable the dynamics are\n"
      ]
    },
    {
      "cell_type": "code",
      "execution_count": null,
      "id": "9393d1c0",
      "metadata": {
        "vscode": {
          "languageId": "julia"
        }
      },
      "outputs": [],
      "source": [
        "# here we use only the last 30.\n",
        "community_cv(sim_niche, last = 4)"
      ]
    },
    {
      "attachments": {},
      "cell_type": "markdown",
      "id": "a3a8b2d3",
      "metadata": {},
      "source": [
        "There are may more meaures of stability.  One extension of the `community_cv` is partitioned variation in community biomass via `coefficient_of_variation` which computes the Coefficient of Variation (CV) of community biomass and its partition into average species CV (`community_cv` above), species mean CV and synchrony, along with the variation of each species; following Thibault & Connolly (2013).\n"
      ]
    },
    {
      "cell_type": "code",
      "execution_count": null,
      "id": "b7a29ce6",
      "metadata": {
        "vscode": {
          "languageId": "julia"
        }
      },
      "outputs": [],
      "source": [
        "coefficient_of_variation(sim_niche, last = 4)"
      ]
    },
    {
      "attachments": {},
      "cell_type": "markdown",
      "id": "0ceb1f93",
      "metadata": {},
      "source": [
        "Finally, we can look at two measures of diversity.  First, we can get species richness.  This confirms that our persistence estimate (60%) is in line!\n"
      ]
    },
    {
      "cell_type": "code",
      "execution_count": null,
      "id": "98650db5",
      "metadata": {
        "vscode": {
          "languageId": "julia"
        }
      },
      "outputs": [],
      "source": [
        "# con\n",
        "# richness(sim_niche; last = 4)\n",
        "shannon_diversity(sim_niche; last = 4)"
      ]
    },
    {
      "attachments": {},
      "cell_type": "markdown",
      "id": "01cb9e30",
      "metadata": {},
      "source": [
        "And we can estimate evenness\n"
      ]
    },
    {
      "cell_type": "code",
      "execution_count": null,
      "id": "b410e011",
      "metadata": {
        "vscode": {
          "languageId": "julia"
        }
      },
      "outputs": [],
      "source": [
        "evenness(sim_niche; last = 4)"
      ]
    },
    {
      "attachments": {},
      "cell_type": "markdown",
      "id": "cc54cafc",
      "metadata": {},
      "source": [
        "### What's next\n",
        "\n",
        "The next section will introduce how to create simulations where we work with multiple networks and collect data across these. We do this using loops, and collect information in a data frame.  We then work on how to embed additional changes to parameters in the loops as well."
      ]
    }
  ],
  "metadata": {
    "kernelspec": {
      "display_name": "Julia 1.8.5",
      "language": "julia",
      "name": "julia-1.8"
    }
  },
  "nbformat": 4,
  "nbformat_minor": 5
}
